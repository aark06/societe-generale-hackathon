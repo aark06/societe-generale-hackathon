{
  "metadata": {
    "language_info": {
      "codemirror_mode": {
        "name": "python",
        "version": 3
      },
      "file_extension": ".py",
      "mimetype": "text/x-python",
      "name": "python",
      "nbconvert_exporter": "python",
      "pygments_lexer": "ipython3",
      "version": "3.8"
    },
    "kernelspec": {
      "name": "python",
      "display_name": "Python (Pyodide)",
      "language": "python"
    }
  },
  "nbformat_minor": 4,
  "nbformat": 4,
  "cells": [
    {
      "cell_type": "code",
      "source": "Using Linear Regression - ( Best solution compared to other models )",
      "metadata": {},
      "execution_count": null,
      "outputs": []
    },
    {
      "cell_type": "code",
      "source": "import pandas as pd\nfrom sklearn.model_selection import train_test_split\nfrom sklearn.ensemble import RandomForestRegressor\nfrom sklearn.tree import DecisionTreeRegressor\nfrom sklearn.metrics import mean_absolute_error\nfrom sklearn.linear_model import LinearRegression  \nfrom sklearn.preprocessing import LabelEncoder\nfrom sklearn.impute import SimpleImputer\nimport string\n\n# Define a function to remove punctuation from text\ndef remove_punctuation(text):\n    if '%' in str(text):\n        # Remove '%' and convert to float\n        return float(str(text).replace('%', ''))\n    else:\n        exclude = set(string.punctuation) - set('.')\n        return \"\".join([char for char in str(text) if char not in exclude])\n\n# Load the data into a DataFrame\ndata = pd.read_csv('world-data-2023.csv')\n\n# Data cleaning\n# Replace missing values (if any) with appropriate values or strategies\ndata.fillna(0, inplace=True)  # For demonstration purposes, fill missing values with 0\n\n# Convert numeric columns to the appropriate data types\nnumeric_columns = [\n    'Density',\n    'Agricultural Land( %)',\n    'Armed Forces size',\n    'Birth Rate',\n    'Co2-Emissions',\n    'CPI',\n    'Fertility Rate',\n    'Forested Area (%)',\n    'Gasoline Price',\n    'GDP',\n    'Gross primary education enrollment (%)',\n    'Gross tertiary education enrollment (%)',\n    'Infant mortality',\n    'Life expectancy',\n    'Maternal mortality ratio',\n    'Out of pocket health expenditure',\n    'Physicians per thousand',\n    'Population',\n    'Population: Labor force participation (%)',\n    'Tax revenue (%)',\n    'Total tax rate',\n    'Unemployment rate',\n    'Land Area(Km2)',\n    'Urban_population'\n]\n\nfor column in numeric_columns:\n    # Exclude the target column\n    data[column] = data[column].apply(lambda x: remove_punctuation(x))\n    data[column] = pd.to_numeric(data[column], errors='coerce')  # Convert to numeric\n\n# Encode categorical variables (if any)\n# You can use label encoding for categorical variables\nlabel_encoder = LabelEncoder()\ndata['Currency-Code'] = data['Currency-Code'].astype(str)\ndata['Currency-Code'] = label_encoder.fit_transform(data['Currency-Code'])\n\n# Set the target variable (Urban_population)\ntarget = 'Urban_population'\n\ndata.dropna(subset=[target], inplace=True)\n\n# Define your target variable and features\ny = data[target]\nX = data[numeric_columns]  # Use only numeric columns as features\n\n# Replace missing values with the mean (you can choose another strategy if needed)\nimputer = SimpleImputer(strategy='mean')\nX = imputer.fit_transform(X)\n\n# Split the data into training and testing sets\nX_train, X_test, y_train, y_test = train_test_split(X, y, test_size=0.2, random_state=42)\n\n# Initialize and train a regression model (Random Forest Regressor)\nmodel = LinearRegression()\nmodel.fit(X_train, y_train)\n\n# Make predictions on the testing set\ny_pred = model.predict(X_test)\n\n# Evaluate the model's performance\nmae = mean_absolute_error(y_test, y_pred)\nprint(f'Mean Absolute Error: {mae}')\n\n# Predict urbanization for all countries\nall_countries = data[numeric_columns]  # Use all countries in the dataset for prediction\nall_predictions = model.predict(all_countries)\n\n# Create a DataFrame with the predicted urbanization percentages\npredictions_df = pd.DataFrame({\n    'Country': data['Country'],\n    'Predicted_Urbanization': all_predictions\n})\n\n# Rank and select the top 20 urbanized countries\ntop_20_urbanized = predictions_df.sort_values(by='Predicted_Urbanization', ascending=False).head(20)\n\n# Print the top 20 urbanized countries\nprint(top_20_urbanized)",
      "metadata": {
        "trusted": true
      },
      "execution_count": 3,
      "outputs": [
        {
          "name": "stdout",
          "text": "Mean Absolute Error: 2.6604666688316226e-08\n",
          "output_type": "stream"
        },
        {
          "name": "stderr",
          "text": "/lib/python3.11/site-packages/sklearn/base.py:457: UserWarning: X has feature names, but LinearRegression was fitted without feature names\n  warnings.warn(\n",
          "output_type": "stream"
        },
        {
          "name": "stdout",
          "text": "            Country  Predicted_Urbanization\n36            China            8.429340e+08\n77            India            4.710315e+08\n185   United States            2.706630e+08\n23           Brazil            1.832416e+08\n78        Indonesia            1.515097e+08\n85            Japan            1.157824e+08\n143          Russia            1.076839e+08\n126         Nigeria            1.028069e+08\n110          Mexico            1.026269e+08\n131        Pakistan            7.992776e+07\n64          Germany            6.432484e+07\n178          Turkey            6.309782e+07\n79             Iran            6.250962e+07\n13       Bangladesh            6.098742e+07\n184  United Kingdom            5.590832e+07\n60           France            5.412336e+07\n138     Philippines            5.097590e+07\n51            Egypt            4.289582e+07\n83            Italy            4.265197e+07\n161     South Korea            4.210672e+07\n",
          "output_type": "stream"
        }
      ]
    },
    {
      "cell_type": "code",
      "source": "Using HistGradientBoostingRegressor",
      "metadata": {},
      "execution_count": null,
      "outputs": []
    },
    {
      "cell_type": "code",
      "source": "import pandas as pd\nfrom sklearn.model_selection import train_test_split\nfrom sklearn.ensemble import RandomForestRegressor\nfrom sklearn.metrics import mean_absolute_error\nfrom sklearn.preprocessing import LabelEncoder\nimport string\nfrom sklearn.experimental import enable_hist_gradient_boosting\nfrom sklearn.ensemble import HistGradientBoostingRegressor\n\n# Define a function to remove punctuation from text\ndef remove_punctuation(text):\n    if '%' in str(text):\n        # Remove '%' and convert to float\n        return float(str(text).replace('%', ''))\n    else:\n        exclude = set(string.punctuation) - set('.')\n        return \"\".join([char for char in str(text) if char not in exclude])\n\n# Load the data into a DataFrame\ndata = pd.read_csv('world-data-2023.csv')\n\n# Data cleaning\n# Convert numeric columns to the appropriate data types\nnumeric_columns = [\n    'Density',\n    'Agricultural Land( %)',\n    'Armed Forces size',\n    'Birth Rate',\n    'Co2-Emissions',\n    'CPI',\n    'Fertility Rate',\n    'Forested Area (%)',\n    'Gasoline Price',\n    'GDP',\n    'Gross primary education enrollment (%)',\n    'Gross tertiary education enrollment (%)',\n    'Infant mortality',\n    'Life expectancy',\n    'Maternal mortality ratio',\n    'Out of pocket health expenditure',\n    'Physicians per thousand',\n    'Population',\n    'Population: Labor force participation (%)',\n    'Tax revenue (%)',\n    'Total tax rate',\n    'Unemployment rate',\n    'Land Area(Km2)',\n    'Urban_population'\n]\n\nfor column in numeric_columns:\n    # Exclude the target column\n    data[column] = data[column].apply(lambda x: remove_punctuation(x))\n    data[column] = pd.to_numeric(data[column], errors='coerce')  # Convert to numeric\n\n# Encode categorical variables (if any)\n# You can use label encoding for categorical variables\nlabel_encoder = LabelEncoder()\ndata['Currency-Code'] = data['Currency-Code'].astype(str)\ndata['Currency-Code'] = label_encoder.fit_transform(data['Currency-Code'])\n\n# Set the target variable (Urban_population)\ntarget = 'Urban_population'\n\n# Remove rows with missing values in the target column\ndata.dropna(subset=[target], inplace=True)\n\n# Define your target variable and features\ny = data[target]\nX = data[numeric_columns]  # Use only numeric columns as features\n\n# Split the data into training and testing sets\nX_train, X_test, y_train, y_test = train_test_split(X, y, test_size=0.2, random_state=42)\n\n# Initialize and train a regression model (Random Forest Regressor)\nmodel = HistGradientBoostingRegressor(random_state=42)\nmodel.fit(X_train, y_train)\n\n# Make predictions on the testing set\ny_pred = model.predict(X_test)\n\n# Evaluate the model's performance\nmae = mean_absolute_error(y_test, y_pred)\nprint(f'Mean Absolute Error: {mae}')\n\n# Predict urbanization for all countries\nall_countries = data[numeric_columns]  # Use all countries in the dataset for prediction\nall_predictions = model.predict(all_countries)\n\n# Create a DataFrame with the predicted urbanization percentages\npredictions_df = pd.DataFrame({\n    'Country': data['Country'],\n    'Predicted_Urbanization': all_predictions\n})\n\n# Rank and select the top 20 urbanized countries\ntop_20_urbanized = predictions_df.sort_values(by='Predicted_Urbanization', ascending=False).head(20)\n\n# Print the top 20 urbanized countries\nprint(top_20_urbanized)\n",
      "metadata": {},
      "execution_count": null,
      "outputs": []
    },
    {
      "cell_type": "code",
      "source": "Using RandomForestRegressor",
      "metadata": {},
      "execution_count": null,
      "outputs": []
    },
    {
      "cell_type": "code",
      "source": "import pandas as pd\nfrom sklearn.model_selection import train_test_split\nfrom sklearn.ensemble import RandomForestRegressor\nfrom sklearn.metrics import mean_absolute_error\nfrom sklearn.preprocessing import LabelEncoder\nfrom sklearn.impute import SimpleImputer\nimport string\n\n# Define a function to remove punctuation from text\ndef remove_punctuation(text):\n    if '%' in str(text):\n        # Remove '%' and convert to float\n        return float(str(text).replace('%', ''))\n    else:\n        exclude = set(string.punctuation) - set('.')\n        return \"\".join([char for char in str(text) if char not in exclude])\n\n# Load the data into a DataFrame\ndata = pd.read_csv('world-data-2023.csv')\n\n# Data cleaning\n# Replace missing values (if any) with appropriate values or strategies\ndata.fillna(0, inplace=True)  # For demonstration purposes, fill missing values with 0\n\n# Convert numeric columns to the appropriate data types\nnumeric_columns = [\n    'Density',\n    'Agricultural Land( %)',\n    'Armed Forces size',\n    'Birth Rate',\n    'Co2-Emissions',\n    'CPI',\n    'Fertility Rate',\n    'Forested Area (%)',\n    'Gasoline Price',\n    'GDP',\n    'Gross primary education enrollment (%)',\n    'Gross tertiary education enrollment (%)',\n    'Infant mortality',\n    'Life expectancy',\n    'Maternal mortality ratio',\n    'Out of pocket health expenditure',\n    'Physicians per thousand',\n    'Population',\n    'Population: Labor force participation (%)',\n    'Tax revenue (%)',\n    'Total tax rate',\n    'Unemployment rate',\n    'Land Area(Km2)',\n    'Urban_population'\n]\n\nfor column in numeric_columns:\n    # Exclude the target column\n    data[column] = data[column].apply(lambda x: remove_punctuation(x))\n    data[column] = pd.to_numeric(data[column], errors='coerce')  # Convert to numeric\n\n# Encode categorical variables (if any)\n# You can use label encoding for categorical variables\nlabel_encoder = LabelEncoder()\ndata['Currency-Code'] = data['Currency-Code'].astype(str)\ndata['Currency-Code'] = label_encoder.fit_transform(data['Currency-Code'])\n\n# Set the target variable (Urban_population)\ntarget = 'Urban_population'\n\ndata.dropna(subset=[target], inplace=True)\n\n# Define your target variable and features\ny = data[target]\nX = data[numeric_columns]  # Use only numeric columns as features\n\n# Replace missing values with the mean (you can choose another strategy if needed)\nimputer = SimpleImputer(strategy='mean')\nX = imputer.fit_transform(X)\n\n# Split the data into training and testing sets\nX_train, X_test, y_train, y_test = train_test_split(X, y, test_size=0.2, random_state=42)\n\n# Initialize and train a regression model (Random Forest Regressor)\nmodel = RandomForestRegressor(n_estimators=100, random_state=42)\nmodel.fit(X_train, y_train)\n\n# Make predictions on the testing set\ny_pred = model.predict(X_test)\n\n# Evaluate the model's performance\nmae = mean_absolute_error(y_test, y_pred)\nprint(f'Mean Absolute Error: {mae}')\n\n# Predict urbanization for all countries\nall_countries = data[numeric_columns]  # Use all countries in the dataset for prediction\nall_predictions = model.predict(all_countries)\n\n# Create a DataFrame with the predicted urbanization percentages\npredictions_df = pd.DataFrame({\n    'Country': data['Country'],\n    'Predicted_Urbanization': all_predictions\n})\n\n# Rank and select the top 20 urbanized countries\ntop_20_urbanized = predictions_df.sort_values(by='Predicted_Urbanization', ascending=False).head(20)\n\n# Print the top 20 urbanized countries\nprint(top_20_urbanized)\n",
      "metadata": {
        "trusted": true
      },
      "execution_count": 4,
      "outputs": [
        {
          "name": "stdout",
          "text": "Mean Absolute Error: 567097.4307692308\n",
          "output_type": "stream"
        },
        {
          "name": "stderr",
          "text": "/lib/python3.11/site-packages/sklearn/base.py:457: UserWarning: X has feature names, but RandomForestRegressor was fitted without feature names\n  warnings.warn(\n",
          "output_type": "stream"
        },
        {
          "name": "stdout",
          "text": "            Country  Predicted_Urbanization\n36            China            6.351494e+08\n77            India            4.477171e+08\n185   United States            2.715210e+08\n23           Brazil            1.653219e+08\n78        Indonesia            1.460094e+08\n85            Japan            1.241612e+08\n143          Russia            1.211527e+08\n126         Nigeria            1.059038e+08\n110          Mexico            1.053268e+08\n131        Pakistan            8.145463e+07\n13       Bangladesh            6.827527e+07\n64          Germany            6.513724e+07\n79             Iran            6.329396e+07\n184  United Kingdom            6.278351e+07\n178          Turkey            6.134470e+07\n60           France            6.017150e+07\n138     Philippines            5.414353e+07\n83            Italy            4.525440e+07\n161     South Korea            4.509959e+07\n51            Egypt            4.248702e+07\n",
          "output_type": "stream"
        }
      ]
    },
    {
      "cell_type": "code",
      "source": "",
      "metadata": {},
      "execution_count": null,
      "outputs": []
    }
  ]
}